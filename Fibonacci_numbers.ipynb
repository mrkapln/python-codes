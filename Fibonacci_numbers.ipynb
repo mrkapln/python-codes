{
  "nbformat": 4,
  "nbformat_minor": 0,
  "metadata": {
    "colab": {
      "name": "Fibonacci_numbers.ipynb",
      "provenance": []
    },
    "kernelspec": {
      "name": "python3",
      "display_name": "Python 3"
    },
    "language_info": {
      "name": "python"
    }
  },
  "cells": [
    {
      "cell_type": "code",
      "metadata": {
        "id": "KV7ezv-1cYwC",
        "colab": {
          "base_uri": "https://localhost:8080/"
        },
        "outputId": "cb8fd45d-cbae-49cd-b324-409c42d92155"
      },
      "source": [
        "a = 1 \n",
        "b = 0\n",
        "\n",
        "while b < 56:\n",
        "    a, b = b, a+b\n",
        "    print(a)"
      ],
      "execution_count": 8,
      "outputs": [
        {
          "output_type": "stream",
          "text": [
            "0\n",
            "1\n",
            "1\n",
            "2\n",
            "3\n",
            "5\n",
            "8\n",
            "13\n",
            "21\n",
            "34\n",
            "55\n"
          ],
          "name": "stdout"
        }
      ]
    }
  ]
}