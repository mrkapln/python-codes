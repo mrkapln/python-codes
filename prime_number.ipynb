{
  "nbformat": 4,
  "nbformat_minor": 0,
  "metadata": {
    "colab": {
      "name": "prime_number.ipynb",
      "provenance": []
    },
    "kernelspec": {
      "name": "python3",
      "display_name": "Python 3"
    },
    "language_info": {
      "name": "python"
    }
  },
  "cells": [
    {
      "cell_type": "code",
      "metadata": {
        "colab": {
          "base_uri": "https://localhost:8080/"
        },
        "id": "YD8ycTGD3HeI",
        "outputId": "fce49be4-8917-4303-ecce-0e5c1f144ef4"
      },
      "source": [
        "number=int(input(\"Enter a number to see if its prime:\"))\n",
        "if number <= 1:\n",
        "    print(\"{} is not prime number.\".format(number))\n",
        "else:\n",
        "    a=2\n",
        "    check = True\n",
        "    while a != number:\n",
        "        if number % a == 0:\n",
        "            print(\"{} is not a prime number.\".format(number))\n",
        "            check = False\n",
        "            break\n",
        "        a+=1\n",
        "    if check == True:\n",
        "        print(\"{} is a prime number.\".format(number))"
      ],
      "execution_count": 1,
      "outputs": [
        {
          "output_type": "stream",
          "text": [
            "Enter a number to see if its prime:41\n",
            "41 is a prime number.\n"
          ],
          "name": "stdout"
        }
      ]
    }
  ]
}