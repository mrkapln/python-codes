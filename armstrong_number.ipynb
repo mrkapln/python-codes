{
  "nbformat": 4,
  "nbformat_minor": 0,
  "metadata": {
    "colab": {
      "name": "armstrong_number.ipynb",
      "provenance": [],
      "collapsed_sections": []
    },
    "kernelspec": {
      "name": "python3",
      "display_name": "Python 3"
    },
    "language_info": {
      "name": "python"
    }
  },
  "cells": [
    {
      "cell_type": "code",
      "metadata": {
        "colab": {
          "base_uri": "https://localhost:8080/"
        },
        "id": "1oexKFMbxfKj",
        "outputId": "9d40e055-4d76-4861-c15b-73ed9c6400d4"
      },
      "source": [
        "def findArmStrongSum(no):\n",
        "    currentNo = no\n",
        "    length = len(str(currentNo))\n",
        "    sum = 0\n",
        "\n",
        "    while currentNo > 0:\n",
        "        lastDigit = currentNo % 10\n",
        "        sum += lastDigit ** length\n",
        "\n",
        "        currentNo = int(currentNo/10)\n",
        "\n",
        "    return sum\n",
        "\n",
        "no = int(input(\"Enter a positive number :\"))\n",
        "\n",
        "if (no>0) :\n",
        "    armStrongSum = findArmStrongSum(no)\n",
        "    if (armStrongSum == no):\n",
        "        print (\"Given number is an Armstrong Number\")\n",
        "    else:\n",
        "        print (\"Number is not an Armstrong Number\")\n",
        "else:\n",
        "    print (\"It is an invalid entry. Don't use non-numeric, float, or negative values!\")"
      ],
      "execution_count": 42,
      "outputs": [
        {
          "output_type": "stream",
          "text": [
            "Enter a positive number :-5\n",
            "It is an invalid entry. Don't use non-numeric, float, or negative values!\n"
          ],
          "name": "stdout"
        }
      ]
    },
    {
      "cell_type": "code",
      "metadata": {
        "id": "Eb5KPOerlWbz"
      },
      "source": [
        ""
      ],
      "execution_count": null,
      "outputs": []
    }
  ]
}