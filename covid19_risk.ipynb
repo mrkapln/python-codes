{
  "nbformat": 4,
  "nbformat_minor": 0,
  "metadata": {
    "colab": {
      "name": "covid-19 risk.ipynb",
      "provenance": [],
      "collapsed_sections": []
    },
    "kernelspec": {
      "name": "python3",
      "display_name": "Python 3"
    },
    "language_info": {
      "name": "python"
    }
  },
  "cells": [
    {
      "cell_type": "code",
      "metadata": {
        "id": "W6wSvzc5_XlQ",
        "colab": {
          "base_uri": "https://localhost:8080/"
        },
        "outputId": "f1cab993-7a3b-4003-c1cc-0e57c9e1c2f2"
      },
      "source": [
        "print(\"Please enter 'yes' or 'no'\")\n",
        "\n",
        "age = str(input(\"Are you a cigarette addict older than 75 years old?\")).title().strip()\n",
        "\n",
        "chronic = str(input(\"Do you have a severe chronic disease?\")).title().strip()\n",
        "immune = str(input(\"Is your immune system too weak?\")).title().strip()\n",
        "\n",
        "risk = (age or chronic or immune)  # (True or False)\n",
        "\n",
        "if risk == 'Yes' :\n",
        "    print(\"You are in risky group\")\n",
        "elif risk == 'No':\n",
        "    if chronic == 'Yes':\n",
        "        print(\"You are in risky group\")\n",
        "    elif immune == 'Yes':\n",
        "        print(\"You are in risky group\")  \n",
        "    elif age == \"No\":\n",
        "         print(\"You are not in risky group\")                \n",
        "else :\n",
        "    print(\"You are not in risky group\")    "
      ],
      "execution_count": 54,
      "outputs": [
        {
          "output_type": "stream",
          "text": [
            "Please enter 'yes' or 'no'\n",
            "Are you a cigarette addict older than 75 years old?no\n",
            "Do you have a severe chronic disease?yes\n",
            "Is your immune system too weak?no\n",
            "You are in risky group\n"
          ],
          "name": "stdout"
        }
      ]
    },
    {
      "cell_type": "code",
      "metadata": {
        "id": "BUNEhebTBu1U"
      },
      "source": [
        "risk = (age or chronic or immune)  # (True or False)"
      ],
      "execution_count": 55,
      "outputs": []
    }
  ]
}