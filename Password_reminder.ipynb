{
  "nbformat": 4,
  "nbformat_minor": 0,
  "metadata": {
    "colab": {
      "name": "Password_reminder.ipynb",
      "provenance": []
    },
    "kernelspec": {
      "name": "python3",
      "display_name": "Python 3"
    },
    "language_info": {
      "name": "python"
    }
  },
  "cells": [
    {
      "cell_type": "code",
      "metadata": {
        "colab": {
          "base_uri": "https://localhost:8080/"
        },
        "id": "LIOEeEq1Y7os",
        "outputId": "4756d86e-0a4d-4c81-cd10-0ec7ce107c9d"
      },
      "source": [
        "name = str(input(\"Please enter your name : \")).title().strip()\n",
        "if name == \"Mustafa\" :\n",
        "      print(\"Hello, Mustafa! The password is : W@12\")\n",
        "else:      \n",
        "    print(\"Hello, {}! See you later.\".format(name))\n",
        "  "
      ],
      "execution_count": 1,
      "outputs": [
        {
          "output_type": "stream",
          "text": [
            "Please enter your name : mustafa\n",
            "Hello, Mustafa! The password is : W@12\n"
          ],
          "name": "stdout"
        }
      ]
    }
  ]
}